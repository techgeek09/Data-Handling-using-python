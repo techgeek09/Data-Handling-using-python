{
 "cells": [
  {
   "cell_type": "markdown",
   "metadata": {},
   "source": [
    "IMPORTING NUMPY"
   ]
  },
  {
   "cell_type": "code",
   "execution_count": 2,
   "metadata": {},
   "outputs": [],
   "source": [
    "import numpy as np "
   ]
  },
  {
   "cell_type": "markdown",
   "metadata": {},
   "source": [
    "CHECKING NUMPY VERSION"
   ]
  },
  {
   "cell_type": "code",
   "execution_count": 3,
   "metadata": {},
   "outputs": [
    {
     "data": {
      "text/plain": [
       "'2.0.1'"
      ]
     },
     "execution_count": 3,
     "metadata": {},
     "output_type": "execute_result"
    }
   ],
   "source": [
    "np.__version__"
   ]
  },
  {
   "cell_type": "markdown",
   "metadata": {},
   "source": [
    "NUMPY IS USED FOR CREATING ARRAY AND FUNCTIONS ON ARRAYS AND STRINGS"
   ]
  },
  {
   "cell_type": "markdown",
   "metadata": {},
   "source": [
    "1-D ARRAY"
   ]
  },
  {
   "cell_type": "code",
   "execution_count": 4,
   "metadata": {},
   "outputs": [
    {
     "data": {
      "text/plain": [
       "array([25, 10, 20, 30, 40, 50, 60])"
      ]
     },
     "execution_count": 4,
     "metadata": {},
     "output_type": "execute_result"
    }
   ],
   "source": [
    "ls = [25,10,20,30,40,50,60]\n",
    "arr = np.array([25,10,20,30,40,50,60])\n",
    "arr\n"
   ]
  },
  {
   "cell_type": "code",
   "execution_count": 5,
   "metadata": {},
   "outputs": [
    {
     "data": {
      "text/plain": [
       "numpy.ndarray"
      ]
     },
     "execution_count": 5,
     "metadata": {},
     "output_type": "execute_result"
    }
   ],
   "source": [
    "# type(ls)\n",
    "type(arr)"
   ]
  },
  {
   "cell_type": "code",
   "execution_count": 6,
   "metadata": {},
   "outputs": [
    {
     "data": {
      "text/plain": [
       "1"
      ]
     },
     "execution_count": 6,
     "metadata": {},
     "output_type": "execute_result"
    }
   ],
   "source": [
    "arr.ndim"
   ]
  },
  {
   "cell_type": "code",
   "execution_count": 7,
   "metadata": {},
   "outputs": [
    {
     "data": {
      "text/plain": [
       "7"
      ]
     },
     "execution_count": 7,
     "metadata": {},
     "output_type": "execute_result"
    }
   ],
   "source": [
    "arr.size"
   ]
  },
  {
   "cell_type": "code",
   "execution_count": 8,
   "metadata": {},
   "outputs": [
    {
     "data": {
      "text/plain": [
       "7"
      ]
     },
     "execution_count": 8,
     "metadata": {},
     "output_type": "execute_result"
    }
   ],
   "source": [
    "len(arr)"
   ]
  },
  {
   "cell_type": "code",
   "execution_count": 9,
   "metadata": {},
   "outputs": [
    {
     "data": {
      "text/plain": [
       "(7,)"
      ]
     },
     "execution_count": 9,
     "metadata": {},
     "output_type": "execute_result"
    }
   ],
   "source": [
    "arr.shape"
   ]
  },
  {
   "cell_type": "code",
   "execution_count": 10,
   "metadata": {},
   "outputs": [
    {
     "data": {
      "text/plain": [
       "dtype('int64')"
      ]
     },
     "execution_count": 10,
     "metadata": {},
     "output_type": "execute_result"
    }
   ],
   "source": [
    "arr.dtype"
   ]
  },
  {
   "cell_type": "code",
   "execution_count": 11,
   "metadata": {},
   "outputs": [
    {
     "data": {
      "text/plain": [
       "dtype('<U21')"
      ]
     },
     "execution_count": 11,
     "metadata": {},
     "output_type": "execute_result"
    }
   ],
   "source": [
    "arr = np.array([25,10,20,30,40,50,'hello'])\n",
    "arr\n",
    "arr.dtype"
   ]
  },
  {
   "cell_type": "code",
   "execution_count": 12,
   "metadata": {},
   "outputs": [
    {
     "data": {
      "text/plain": [
       "dtype('float64')"
      ]
     },
     "execution_count": 12,
     "metadata": {},
     "output_type": "execute_result"
    }
   ],
   "source": [
    "arr = np.array([25,10,20,30,40,50,23.4])\n",
    "arr\n",
    "arr.dtype"
   ]
  },
  {
   "cell_type": "code",
   "execution_count": 13,
   "metadata": {},
   "outputs": [
    {
     "data": {
      "text/plain": [
       "dtype('int64')"
      ]
     },
     "execution_count": 13,
     "metadata": {},
     "output_type": "execute_result"
    }
   ],
   "source": [
    "arr = np.array([25,10,20,30,40,50,])\n",
    "arr\n",
    "arr.dtype"
   ]
  },
  {
   "cell_type": "code",
   "execution_count": 14,
   "metadata": {},
   "outputs": [
    {
     "data": {
      "text/plain": [
       "array([67, 56, 67])"
      ]
     },
     "execution_count": 14,
     "metadata": {},
     "output_type": "execute_result"
    }
   ],
   "source": [
    "arr = np.array([25,34,4,6,67,56,67])\n",
    "arr[4:]"
   ]
  },
  {
   "cell_type": "code",
   "execution_count": 15,
   "metadata": {},
   "outputs": [
    {
     "data": {
      "text/plain": [
       "array([ 5. ,  6.8,  0.8,  1.2, 13.4, 11.2, 13.4])"
      ]
     },
     "execution_count": 15,
     "metadata": {},
     "output_type": "execute_result"
    }
   ],
   "source": [
    "arr/5"
   ]
  },
  {
   "cell_type": "code",
   "execution_count": 16,
   "metadata": {},
   "outputs": [
    {
     "data": {
      "text/plain": [
       "np.int64(4)"
      ]
     },
     "execution_count": 16,
     "metadata": {},
     "output_type": "execute_result"
    }
   ],
   "source": [
    "min(arr)"
   ]
  },
  {
   "cell_type": "code",
   "execution_count": 17,
   "metadata": {},
   "outputs": [
    {
     "data": {
      "text/plain": [
       "np.int64(67)"
      ]
     },
     "execution_count": 17,
     "metadata": {},
     "output_type": "execute_result"
    }
   ],
   "source": [
    "max(arr)"
   ]
  },
  {
   "cell_type": "code",
   "execution_count": 18,
   "metadata": {},
   "outputs": [
    {
     "data": {
      "text/plain": [
       "np.int64(259)"
      ]
     },
     "execution_count": 18,
     "metadata": {},
     "output_type": "execute_result"
    }
   ],
   "source": [
    "sum(arr)"
   ]
  },
  {
   "cell_type": "code",
   "execution_count": 19,
   "metadata": {},
   "outputs": [
    {
     "data": {
      "text/plain": [
       "np.float64(37.0)"
      ]
     },
     "execution_count": 19,
     "metadata": {},
     "output_type": "execute_result"
    }
   ],
   "source": [
    "np.mean(arr)"
   ]
  },
  {
   "cell_type": "code",
   "execution_count": 20,
   "metadata": {},
   "outputs": [
    {
     "data": {
      "text/plain": [
       "np.float64(34.0)"
      ]
     },
     "execution_count": 20,
     "metadata": {},
     "output_type": "execute_result"
    }
   ],
   "source": [
    "np.median(arr)"
   ]
  },
  {
   "cell_type": "markdown",
   "metadata": {},
   "source": [
    "np.mode(arr) #numpy does not consist of mode function"
   ]
  },
  {
   "cell_type": "code",
   "execution_count": 22,
   "metadata": {},
   "outputs": [],
   "source": [
    "import random #numpy consist of random module"
   ]
  },
  {
   "cell_type": "code",
   "execution_count": 23,
   "metadata": {},
   "outputs": [
    {
     "data": {
      "text/plain": [
       "5"
      ]
     },
     "execution_count": 23,
     "metadata": {},
     "output_type": "execute_result"
    }
   ],
   "source": [
    "random.randint(1,9)"
   ]
  },
  {
   "cell_type": "code",
   "execution_count": 24,
   "metadata": {},
   "outputs": [
    {
     "data": {
      "text/plain": [
       "array([152, 165,  35,  64, 120,  49,  92,  83, 428, 186, 155, 236, 415,\n",
       "       136,  27, 334,  59, 166, 266, 262, 432, 243, 380, 373,  24,  58,\n",
       "       106, 169,   8, 212, 336, 308,  53, 431, 313, 352, 448, 251, 228,\n",
       "       424, 309, 122,  64,  73,  97, 222, 314, 276, 173,  78, 121, 227,\n",
       "        32, 210, 341, 130,  29, 449, 313,  42, 382, 409, 173, 178, 372,\n",
       "        86, 182, 277, 336, 198, 375, 239, 399, 127, 353,  43, 267, 245,\n",
       "       314, 403, 146, 240, 198, 108,  83, 164, 415, 412, 141, 402, 210,\n",
       "       315,  70, 387,  67, 238,   2, 249,  41, 323, 353, 287, 332, 341,\n",
       "       122, 193, 175, 363, 167, 190, 153,  87,  90, 446, 396, 257, 355,\n",
       "       256,  61, 327, 182, 277, 286, 360,  94,  70, 404, 248, 122, 326,\n",
       "       410,  87, 223, 277, 176, 389, 200, 306,  87,  96, 276, 365,  31,\n",
       "       226, 118,  62, 229,  85, 420,  53, 319,  59,  54, 435, 441, 246,\n",
       "       447,  46,  78, 274, 330, 211, 411, 364,  56, 276, 437, 366,  84,\n",
       "       214, 121, 116, 366, 437, 187,   4, 431, 147, 392, 283, 131,  79,\n",
       "       310, 384, 222, 204, 203, 414,  91, 412, 271, 415, 186,  86, 189,\n",
       "       270, 426, 191, 347, 137, 165,  84, 203,  97, 284,  26, 390,  55,\n",
       "       332, 281, 352, 207, 421, 234,  63,  68, 127, 207, 251, 406,  12,\n",
       "       297, 188, 369,  34, 106, 299, 154, 116, 306,  66, 118, 353, 280,\n",
       "       106, 378, 434, 118, 402, 107, 151, 374,  20, 415, 340, 243, 381,\n",
       "       254, 281, 443, 286, 256, 120, 134,  49, 131,  37, 224, 166,  64,\n",
       "       376, 195, 277, 167, 434, 135, 249,  66,  98, 397, 361, 393, 441,\n",
       "       382, 142, 417,  40,  22, 176,  64, 367, 159, 310, 359, 328,  86,\n",
       "       402, 170, 410, 285, 275, 442, 312, 327,   5, 163, 181, 166, 226,\n",
       "       172,  22, 179,  79,  94, 311, 245, 148, 148,  25,  58, 173,  64,\n",
       "       389, 388, 268, 248, 291, 107,   6,  26, 247, 108, 363, 352, 412,\n",
       "       118, 221,  28, 235,  91, 426,  68, 193, 295, 435,  96,  12, 260,\n",
       "       238, 193,  75, 417,  34, 254, 338, 119, 239,  65,  58, 223, 277,\n",
       "       233, 271, 203, 378, 444, 291, 276, 340,  19, 217, 299, 317, 448,\n",
       "        26, 192, 327, 360, 359, 449,  73,  80, 283, 403,   8, 276, 406,\n",
       "        70, 193, 170, 357, 319,  81, 353, 313, 217, 180, 225, 434, 220,\n",
       "       133, 224, 255, 310, 150, 298, 154, 438, 329, 100, 384, 145, 162,\n",
       "        15, 359, 108, 442, 340, 432,  11, 409, 251, 298, 308,  54, 190,\n",
       "       109, 112, 136, 280, 225, 237, 280, 300, 154, 271, 131, 343,  14,\n",
       "       197,  35,  68, 294, 331, 141, 447, 364, 191,  14, 389,  85, 224,\n",
       "       269, 423,  26, 176, 105, 194, 207,  42, 340, 379,  60, 309, 129,\n",
       "       331, 413,  82, 349,   6, 296, 408, 446,  62, 305, 250,  16, 133,\n",
       "       297,  96, 317, 160,  90,  71, 189, 186, 425,   4,  80, 219, 149,\n",
       "       210, 334, 263, 423, 214, 106, 280,  74,  46, 161, 254, 326, 295,\n",
       "       421, 234, 341,  25, 366,  60], dtype=int32)"
      ]
     },
     "execution_count": 24,
     "metadata": {},
     "output_type": "execute_result"
    }
   ],
   "source": [
    "arr = np.random.randint(1,450,500)\n",
    "arr"
   ]
  },
  {
   "cell_type": "code",
   "execution_count": 25,
   "metadata": {},
   "outputs": [],
   "source": [
    "import random, string"
   ]
  },
  {
   "cell_type": "code",
   "execution_count": 26,
   "metadata": {},
   "outputs": [
    {
     "data": {
      "text/plain": [
       "'!\"#$%&\\'()*+,-./:;<=>?@[\\\\]^_`{|}~'"
      ]
     },
     "execution_count": 26,
     "metadata": {},
     "output_type": "execute_result"
    }
   ],
   "source": [
    "string.punctuation"
   ]
  },
  {
   "cell_type": "code",
   "execution_count": 28,
   "metadata": {},
   "outputs": [
    {
     "data": {
      "text/plain": [
       "'abcdefghijklmnopqrstuvwxyzABCDEFGHIJKLMNOPQRSTUVWXYZ0123456789'"
      ]
     },
     "execution_count": 28,
     "metadata": {},
     "output_type": "execute_result"
    }
   ],
   "source": [
    "alpha=string.ascii_letters +string.digits\n",
    "alpha"
   ]
  },
  {
   "cell_type": "code",
   "execution_count": 30,
   "metadata": {},
   "outputs": [
    {
     "data": {
      "text/plain": [
       "<bound method Random.choice of <random.Random object at 0x000001A3A189AE60>>"
      ]
     },
     "execution_count": 30,
     "metadata": {},
     "output_type": "execute_result"
    }
   ],
   "source": [
    "x=random.choice\n",
    "x"
   ]
  },
  {
   "cell_type": "code",
   "execution_count": 31,
   "metadata": {},
   "outputs": [
    {
     "data": {
      "text/plain": [
       "array([159, 329, 428, 200, 415, 268, 376, 232, 333, 262, 111,  60, 181,\n",
       "       221,  38,  92,  85, 424, 221, 400, 199, 323, 259,  21, 383, 446,\n",
       "       347, 414,  20, 223, 287, 297, 172, 275, 419, 101,  30, 415, 226,\n",
       "       223,  63, 361,  61, 267, 125, 315, 287, 386,  52,  62, 239, 241,\n",
       "       293, 399, 289, 390, 288, 430, 183, 171,   7, 203, 433, 268, 257,\n",
       "        76, 115, 273, 396, 425, 133, 256, 444, 426,  45, 213, 260,  48,\n",
       "         5, 441, 392,  25, 369,  67, 436, 270, 306, 263, 250, 200, 104,\n",
       "       219, 285, 209, 136, 190, 364, 435,  49, 391, 260, 278,  62,  76,\n",
       "       406, 437, 386, 267, 297, 104, 386, 411,  61,  49, 414, 225, 188,\n",
       "        55,  65, 341,  56, 300, 426, 378, 379, 185,  24, 240, 379, 245,\n",
       "       267,  81, 125, 366, 140, 192,  15, 442, 339, 356, 187, 251, 109,\n",
       "        56, 246, 320,  24,  77, 106, 373, 117, 448, 208, 339, 419, 167,\n",
       "         5, 151, 365,  15, 321, 335, 232, 438, 142, 325, 317,  86,  11,\n",
       "       187, 296, 103, 231, 349, 395,  17, 246,  44,   2,  10,  13, 332,\n",
       "       219, 229, 133, 384, 418,  95, 210, 162, 358, 157, 351, 212, 357,\n",
       "        15, 240, 220, 329, 351, 443, 334, 381, 151, 325, 285, 323, 126,\n",
       "         9, 338, 286, 428, 284, 118, 305, 243, 266, 314, 283, 365, 254,\n",
       "       155, 264, 231, 415,   3, 215, 305, 302,  75, 302,  58, 323, 433,\n",
       "        35,  56, 429,  92, 191, 403, 436, 438, 401, 330, 223, 141, 391,\n",
       "       127, 176, 272, 311, 109, 353, 153, 382, 288, 138, 359, 159, 261,\n",
       "       353, 368, 228,  70, 347, 366, 281,  50,  83, 246, 216, 316, 247,\n",
       "       403, 145,  37, 159, 153, 125, 318, 271, 428,  64, 297, 299,   1,\n",
       "       307, 220, 245, 102, 249, 279, 324, 290,  13, 228, 209, 208,  88,\n",
       "        19, 414, 427, 355,  14, 147, 443, 383, 332, 238,  18, 427, 129,\n",
       "       261, 427, 183, 267, 202,  56, 277, 266,   6, 266, 449, 199, 180,\n",
       "       335, 319, 101, 100, 415,  55, 196, 162, 448,   5, 163, 168,  83,\n",
       "       396,  83,  54, 299, 249, 344, 220, 144, 300, 371, 351, 449, 272,\n",
       "       268,  34, 427, 146, 369, 389,  88, 309, 342, 305, 200,  43, 280,\n",
       "       305, 385, 413, 243, 111,  69, 448,   6,  80, 168, 447, 407, 275,\n",
       "       423, 195, 181, 390, 308, 298,  18, 110, 357, 408, 271, 133, 298,\n",
       "        56, 111, 143,  47,  19, 433, 113,   6, 425,  44, 390, 417,  45,\n",
       "       175,  32, 315, 158,  27, 449, 140,   8, 441, 214, 134, 231, 113,\n",
       "       399, 405,  60, 394, 303,  95, 322, 117, 254, 394,  25, 333, 449,\n",
       "       394, 122, 329, 256, 100, 301, 219, 320, 333, 277, 170,  80, 439,\n",
       "       157,  94,   2, 237, 264, 122, 276, 449,  18, 247, 405, 214, 245,\n",
       "       241, 284, 198,  80, 139,  13,  51,  29, 237, 329, 208, 199, 194,\n",
       "       276, 405, 276, 246,  39, 397, 350, 303, 303, 208, 352,  49, 268,\n",
       "       390,  66, 322, 403, 288, 159, 249, 163, 247,  20, 339, 392, 188,\n",
       "        22, 199, 129, 178,   9, 123], dtype=int32)"
      ]
     },
     "execution_count": 31,
     "metadata": {},
     "output_type": "execute_result"
    }
   ],
   "source": [
    "arr = np.random.randint(1,450,500)\n",
    "arr\n",
    "#calculate no of even count\n",
    "#calculate items that are less than 100"
   ]
  },
  {
   "cell_type": "code",
   "execution_count": 33,
   "metadata": {},
   "outputs": [
    {
     "data": {
      "text/plain": [
       "np.int64(101)"
      ]
     },
     "execution_count": 33,
     "metadata": {},
     "output_type": "execute_result"
    }
   ],
   "source": [
    "y=sum(arr < 100)\n",
    "y"
   ]
  },
  {
   "cell_type": "code",
   "execution_count": 34,
   "metadata": {},
   "outputs": [
    {
     "data": {
      "text/plain": [
       "array([60, 38, 92, 85, 21, 20, 30, 63, 61, 52, 62,  7, 76, 45, 48,  5, 25,\n",
       "       67, 49, 62, 76, 61, 49, 55, 65, 56, 24, 81, 15, 56, 24, 77,  5, 15,\n",
       "       86, 11, 17, 44,  2, 10, 13, 95, 15,  9,  3, 75, 58, 35, 56, 92, 70,\n",
       "       50, 83, 37, 64,  1, 13, 88, 19, 14, 18, 56,  6, 55,  5, 83, 83, 54,\n",
       "       34, 88, 43, 69,  6, 80, 18, 56, 47, 19,  6, 44, 45, 32, 27,  8, 60,\n",
       "       95, 25, 80, 94,  2, 18, 80, 13, 51, 29, 39, 49, 66, 20, 22,  9],\n",
       "      dtype=int32)"
      ]
     },
     "execution_count": 34,
     "metadata": {},
     "output_type": "execute_result"
    }
   ],
   "source": [
    "arr[arr<100]"
   ]
  },
  {
   "cell_type": "code",
   "execution_count": 35,
   "metadata": {},
   "outputs": [
    {
     "data": {
      "text/plain": [
       "101"
      ]
     },
     "execution_count": 35,
     "metadata": {},
     "output_type": "execute_result"
    }
   ],
   "source": [
    "len(arr[arr < 100])"
   ]
  }
 ],
 "metadata": {
  "kernelspec": {
   "display_name": "Python 3",
   "language": "python",
   "name": "python3"
  },
  "language_info": {
   "codemirror_mode": {
    "name": "ipython",
    "version": 3
   },
   "file_extension": ".py",
   "mimetype": "text/x-python",
   "name": "python",
   "nbconvert_exporter": "python",
   "pygments_lexer": "ipython3",
   "version": "3.12.4"
  }
 },
 "nbformat": 4,
 "nbformat_minor": 2
}
