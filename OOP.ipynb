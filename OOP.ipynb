{
 "cells": [
  {
   "cell_type": "code",
   "execution_count": null,
   "id": "87fd5f74-f6cf-4350-9a15-ef242292660c",
   "metadata": {
    "vscode": {
     "languageId": "plaintext"
    }
   },
   "outputs": [],
   "source": [
    "class Student:\n",
    "    #class properties\n",
    "    student_name=\"Anam Abdin\"\n",
    "    student_college=\"United Institute\"\n",
    "    college_city=\"Allahabad\"\n",
    "obj= Student()"
   ]
  },
  {
   "cell_type": "code",
   "execution_count": null,
   "id": "c2353222-19f5-4252-a413-cedebb62754f",
   "metadata": {
    "vscode": {
     "languageId": "plaintext"
    }
   },
   "outputs": [],
   "source": [
    "name=\"Anam Abdin\""
   ]
  },
  {
   "cell_type": "markdown",
   "id": "608326cc",
   "metadata": {},
   "source": []
  },
  {
   "cell_type": "code",
   "execution_count": null,
   "id": "cb82f9b4",
   "metadata": {
    "vscode": {
     "languageId": "plaintext"
    }
   },
   "outputs": [],
   "source": [
    "print(obj.student_name)"
   ]
  },
  {
   "cell_type": "code",
   "execution_count": null,
   "id": "c94270c2",
   "metadata": {
    "vscode": {
     "languageId": "plaintext"
    }
   },
   "outputs": [],
   "source": [
    "class Student:\n",
    "    student_name=\"Anam Abdin\"\n",
    "    student_college=\"United Institute\"\n",
    "#inside class\n",
    "#special constructor- __init__\n",
    "    def _init__(self):\n",
    "        self.student_roll_no=8\n",
    "        self.student_class=10\n",
    "        self.student_address=\"Prayagraj\"\n",
    "        self.student_phone_no=1234567890\n",
    "      "
   ]
  },
  {
   "cell_type": "markdown",
   "id": "7f4ada79",
   "metadata": {},
   "source": [
    "#creating instance to access attributes\n",
    "obj1=Student()"
   ]
  },
  {
   "cell_type": "code",
   "execution_count": null,
   "id": "a32f529e",
   "metadata": {
    "vscode": {
     "languageId": "plaintext"
    }
   },
   "outputs": [],
   "source": [
    "obj1.student_name"
   ]
  },
  {
   "cell_type": "code",
   "execution_count": null,
   "id": "752daae5",
   "metadata": {
    "vscode": {
     "languageId": "plaintext"
    }
   },
   "outputs": [],
   "source": [
    "obj1.student_college"
   ]
  },
  {
   "cell_type": "code",
   "execution_count": null,
   "id": "ccfaf981",
   "metadata": {
    "vscode": {
     "languageId": "plaintext"
    }
   },
   "outputs": [],
   "source": [
    "Student.student_name"
   ]
  },
  {
   "cell_type": "code",
   "execution_count": null,
   "id": "3a6987b2",
   "metadata": {
    "vscode": {
     "languageId": "plaintext"
    }
   },
   "outputs": [],
   "source": [
    "Student.student_college"
   ]
  },
  {
   "cell_type": "code",
   "execution_count": null,
   "id": "ab28de45",
   "metadata": {
    "vscode": {
     "languageId": "plaintext"
    }
   },
   "outputs": [],
   "source": [
    "class Student:\n",
    "    student_name=\"Anam Abdin\"\n",
    "    student_college=\"United Institute\"\n",
    "#inside class\n",
    "#special constructor- __init__\n",
    "    def _init__(self):\n",
    "        self.student_roll_no=roll_no\n",
    "        self.student_branch = branch\n",
    "        self.student_address=address\n",
    "        self.subject_marks = marks_ls\n",
    "        print('constructed executed ')\n",
    "#self keyword refers to object \n",
    "    def marks_messageaverage_finder  (self):\n",
    "        marks=self.subject_marks \n",
    "        totsl_sum = 0\n",
    "        count = 0\n",
    "        for mark in marks: \n",
    "            total_sum += total_sum + mark\n",
    "            count = count + 1\n",
    "\n",
    "        print('Your average marks is:', total_sum/count)    "
   ]
  },
  {
   "cell_type": "code",
   "execution_count": null,
   "id": "bb7b7253",
   "metadata": {
    "vscode": {
     "languageId": "plaintext"
    }
   },
   "outputs": [],
   "source": [
    "obj1=Student"
   ]
  },
  {
   "cell_type": "code",
   "execution_count": null,
   "id": "72bd9190",
   "metadata": {
    "vscode": {
     "languageId": "plaintext"
    }
   },
   "outputs": [],
   "source": [
    "obj1.student_name"
   ]
  },
  {
   "cell_type": "code",
   "execution_count": null,
   "id": "a497d54e",
   "metadata": {
    "vscode": {
     "languageId": "plaintext"
    }
   },
   "outputs": [],
   "source": [
    "Harshit = Student(roll_no=11,branch=\"CSE\",address=\"Prayagraj\",marks_ls={12,23,34,45,5,56})\n",
    "Parth = Student(roll_no=17,branch=\"IT\",address=\"Jaipur\",marks_ls={12,23,24,67,5,56})\n"
   ]
  },
  {
   "cell_type": "code",
   "execution_count": null,
   "id": "8ec0f8ee",
   "metadata": {
    "vscode": {
     "languageId": "plaintext"
    }
   },
   "outputs": [],
   "source": [
    "Harshit.marks_average_finder\n",
    "Parth.marks_average_finder"
   ]
  },
  {
   "cell_type": "code",
   "execution_count": null,
   "id": "6b881d26",
   "metadata": {
    "vscode": {
     "languageId": "plaintext"
    }
   },
   "outputs": [],
   "source": [
    "class Practise:\n",
    "    def _init_(self):\n",
    "        self.random_number =[25,41,63,9,58,75,95,45,68,25,3,4,61,2]\n",
    "\n",
    "        def target_finder(self, target) :\n",
    "            lst=self.random_number\n",
    "            for i in lst:\n",
    "                if target == i:\n",
    "                    print('Found')\n",
    "                    return\n",
    "                print('Not Found')"
   ]
  },
  {
   "cell_type": "markdown",
   "id": "f287a787",
   "metadata": {},
   "source": []
  },
  {
   "cell_type": "markdown",
   "id": "b9b9a0a0",
   "metadata": {},
   "source": [
    "obj4=Practise()\n",
    "obj4.target_finder(41)"
   ]
  },
  {
   "cell_type": "code",
   "execution_count": 39,
   "id": "3e2afb19",
   "metadata": {},
   "outputs": [],
   "source": [
    "class Student:\n",
    "    department = \"Computer science\"\n",
    "    coordinator = \"Himanshu\"\n",
    "    def __init__(self,name,roll,college,city):\n",
    "        self.name = name\n",
    "        self.roll_no= roll\n",
    "        self.college_name = college\n",
    "        self.college_city = city\n",
    "\n",
    "        #Methods\n",
    "    def display(self):\n",
    "        print(self.name)\n",
    "        print(self.roll_no)\n",
    "        print(self.college_name)\n",
    "        print(self.college_city)\n",
    "    @classmethod\n",
    "    def display2(cls):\n",
    "        print(cls.department)\n",
    "        print(cls.coordinator)"
   ]
  },
  {
   "cell_type": "code",
   "execution_count": 40,
   "id": "244876b1",
   "metadata": {},
   "outputs": [],
   "source": [
    "obj1= Student(name=\"rahul\",roll=101,college=\"poornima\",city=\"allahabad\")"
   ]
  },
  {
   "cell_type": "code",
   "execution_count": 41,
   "id": "a1bcff34",
   "metadata": {},
   "outputs": [
    {
     "data": {
      "text/plain": [
       "'poornima'"
      ]
     },
     "execution_count": 41,
     "metadata": {},
     "output_type": "execute_result"
    }
   ],
   "source": [
    "obj1.college_name"
   ]
  },
  {
   "cell_type": "code",
   "execution_count": 42,
   "id": "d75b385f",
   "metadata": {},
   "outputs": [
    {
     "name": "stdout",
     "output_type": "stream",
     "text": [
      "rahul\n",
      "101\n",
      "poornima\n",
      "allahabad\n"
     ]
    }
   ],
   "source": [
    "obj1.display()"
   ]
  },
  {
   "cell_type": "code",
   "execution_count": 45,
   "id": "449b1604",
   "metadata": {},
   "outputs": [
    {
     "name": "stdout",
     "output_type": "stream",
     "text": [
      "Computer science\n",
      "Himanshu\n"
     ]
    },
    {
     "data": {
      "text/plain": [
       "<bound method Student.display2 of <class '__main__.Student'>>"
      ]
     },
     "execution_count": 45,
     "metadata": {},
     "output_type": "execute_result"
    }
   ],
   "source": [
    "obj1.display2()\n",
    "Student.display2"
   ]
  }
 ],
 "metadata": {
  "kernelspec": {
   "display_name": "Python 3 (ipykernel)",
   "language": "python",
   "name": "python3"
  },
  "language_info": {
   "codemirror_mode": {
    "name": "ipython",
    "version": 3
   },
   "file_extension": ".py",
   "mimetype": "text/x-python",
   "name": "python",
   "nbconvert_exporter": "python",
   "pygments_lexer": "ipython3",
   "version": "3.12.4"
  }
 },
 "nbformat": 4,
 "nbformat_minor": 5
}
